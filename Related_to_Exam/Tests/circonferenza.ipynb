{
 "cells": [
  {
   "cell_type": "markdown",
   "metadata": {},
   "source": [
    "# Circonferenza Julia\n"
   ]
  },
  {
   "cell_type": "code",
   "execution_count": 1,
   "metadata": {},
   "outputs": [
    {
     "data": {
      "text/plain": [
       "3"
      ]
     },
     "execution_count": 1,
     "metadata": {},
     "output_type": "execute_result"
    }
   ],
   "source": [
    "U = [0.0 0.0 0.34 0.45 0.67 1.0 1.0] # 7 nodi\n",
    "P = [0.2 0.3 0.4 0.7; 0.8 0.2 0.4 0.3] # 4 punti di controllo\n",
    "n = 3 # grado"
   ]
  },
  {
   "cell_type": "code",
   "execution_count": 2,
   "metadata": {},
   "outputs": [
    {
     "data": {
      "text/plain": [
       "N (generic function with 1 method)"
      ]
     },
     "execution_count": 2,
     "metadata": {},
     "output_type": "execute_result"
    }
   ],
   "source": [
    "function N(u, U, i, j)\n",
    "\n",
    "\tif j <= 0\n",
    "\t\tif u >= T(U, i) && u < T(U, i+1)\n",
    "\t\t\treturn 1.0\n",
    "\t\telse\n",
    "\t\t\treturn 0.0\n",
    "\t\tend\n",
    "\tend\n",
    "\n",
    "\t\n",
    "\n",
    "\treturn ((u - T(U, i)) / (T(U, i+j) - T(U,i))) * N(u, U, i, j-1) + ((T(U, i+j+1) - u) / (T(U, i+j+1) - T(U, i+1))) * N(u, U, i+1, j-1)\n",
    "\n",
    "end\n"
   ]
  },
  {
   "cell_type": "code",
   "execution_count": 3,
   "metadata": {},
   "outputs": [
    {
     "data": {
      "text/plain": [
       "#3 (generic function with 1 method)"
      ]
     },
     "execution_count": 3,
     "metadata": {},
     "output_type": "execute_result"
    }
   ],
   "source": [
    "S = (u, U, n) -> sum([N(u, U, i, 2) * P[:, i+1] for i=0:n])"
   ]
  },
  {
   "cell_type": "code",
   "execution_count": null,
   "metadata": {},
   "outputs": [],
   "source": []
  }
 ],
 "metadata": {
  "kernelspec": {
   "display_name": "Julia 1.0.2",
   "language": "julia",
   "name": "julia-1.0"
  },
  "language_info": {
   "file_extension": ".jl",
   "mimetype": "application/julia",
   "name": "julia",
   "version": "1.0.2"
  }
 },
 "nbformat": 4,
 "nbformat_minor": 2
}
